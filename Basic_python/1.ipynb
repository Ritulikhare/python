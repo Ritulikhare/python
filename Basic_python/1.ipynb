{
 "cells": [
  {
   "cell_type": "code",
   "execution_count": 4,
   "id": "5b9d29e1-4f05-40eb-ab27-b9fc1c18ed64",
   "metadata": {},
   "outputs": [
    {
     "name": "stdout",
     "output_type": "stream",
     "text": [
      "s\n"
     ]
    }
   ],
   "source": [
    "Find the most frequently occurring character in a string.\n",
    "\n",
    "s = \"success\"\n",
    "d = {}\n",
    "for ch in s:\n",
    "    d[ch] = d.get(ch, 0) + 1\n",
    "max_char = max(d, key=d.get)\n",
    "print(max_char)"
   ]
  },
  {
   "cell_type": "code",
   "execution_count": 1,
   "id": "03bf1794-70a9-482a-8595-d6d5f4a92605",
   "metadata": {},
   "outputs": [
    {
     "name": "stdout",
     "output_type": "stream",
     "text": [
      "{'e': 1, 'u': 1, 'a': 1, 'i': 1, 'o': 1}\n"
     ]
    }
   ],
   "source": [
    "Count the number of vowels in a string and store the result in a dictionary.\n",
    "\n",
    "s = \"education\"\n",
    "vowels = \"aeiou\"\n",
    "d = {}\n",
    "for ch in s:\n",
    "    if ch in vowels:\n",
    "        d[ch] = d.get(ch, 0) + 1\n",
    "print(d)\n",
    "\n"
   ]
  },
  {
   "cell_type": "code",
   "execution_count": 6,
   "id": "9af2590f-05ea-4379-b95e-42a216a78651",
   "metadata": {},
   "outputs": [
    {
     "name": "stdout",
     "output_type": "stream",
     "text": [
      "[1, 2, 3, 4, 5]\n"
     ]
    }
   ],
   "source": [
    "Remove duplicate elements from a list without using set().\n",
    "lst = [1,2,2,3,4,4,5]\n",
    "new = []\n",
    "for i in lst:\n",
    "    if i not in new:\n",
    "        new.append(i)\n",
    "print(new)\n"
   ]
  },
  {
   "cell_type": "code",
   "execution_count": 7,
   "id": "723c3640-6f24-417f-a3d6-e71ebd5762f7",
   "metadata": {},
   "outputs": [
    {
     "name": "stdout",
     "output_type": "stream",
     "text": [
      "[4, 3, 2, 1]\n"
     ]
    }
   ],
   "source": [
    "\n",
    " Reverse a list without using built-in functions.\n",
    "lst = [1,2,3,4]\n",
    "rev = []\n",
    "for i in lst[::-1]:\n",
    "    rev.append(i)\n",
    "print(rev)"
   ]
  },
  {
   "cell_type": "code",
   "execution_count": 9,
   "id": "f0949e82-dc3d-4f43-8d6c-44767c397e41",
   "metadata": {},
   "outputs": [
    {
     "name": "stdout",
     "output_type": "stream",
     "text": [
      "2nd Smallest: 8\n",
      "2nd Largest: 15\n"
     ]
    }
   ],
   "source": [
    "Find the 2nd largest and 2nd smallest element in a list.\n",
    "lst = [10, 5, 20, 8, 15]\n",
    "lst.sort()\n",
    "print(\"2nd Smallest:\", lst[1])\n",
    "print(\"2nd Largest:\", lst[-2])\n",
    "\n"
   ]
  },
  {
   "cell_type": "code",
   "execution_count": 10,
   "id": "a9271a35-4a68-4727-9684-26de30b05dfa",
   "metadata": {},
   "outputs": [
    {
     "name": "stdout",
     "output_type": "stream",
     "text": [
      "[1, 4, 9, 16]\n"
     ]
    }
   ],
   "source": [
    "Store the square of each element of a list into a new list\n",
    "lst = [1,2,3,4]\n",
    "squares = []\n",
    "for i in lst:\n",
    "    squares.append(i*i)\n",
    "print(squares)"
   ]
  },
  {
   "cell_type": "code",
   "execution_count": 11,
   "id": "98c84c71-b7f6-4b93-9f43-d2b2c7f70a78",
   "metadata": {},
   "outputs": [
    {
     "name": "stdout",
     "output_type": "stream",
     "text": [
      "[1, 2, 3, 4, 5, 6]\n"
     ]
    }
   ],
   "source": [
    " Flatten a nested list into a single list.\n",
    "\n",
    "nested = [[1,2],[3,4],[5,6]]\n",
    "flat = []\n",
    "for sub in nested:\n",
    "    for i in sub:\n",
    "        flat.append(i)\n",
    "print(flat)"
   ]
  },
  {
   "cell_type": "code",
   "execution_count": 12,
   "id": "81b17474-aa0e-4c0f-bd64-ec08be5784e7",
   "metadata": {},
   "outputs": [
    {
     "name": "stdout",
     "output_type": "stream",
     "text": [
      "(1, 2, 3, 4, 5, 8)\n"
     ]
    }
   ],
   "source": [
    " Concatenate two tuples and sort them.\n",
    "\n",
    "t1 = (5,2,8)\n",
    "t2 = (1,4,3)\n",
    "t3 = t1 + t2\n",
    "print(tuple(sorted(t3)))"
   ]
  },
  {
   "cell_type": "code",
   "execution_count": 13,
   "id": "f30ebe7f-c704-4f90-8459-9a19c2286420",
   "metadata": {},
   "outputs": [
    {
     "name": "stdout",
     "output_type": "stream",
     "text": [
      "{1, 2, 4}\n"
     ]
    }
   ],
   "source": [
    "Remove a random element from a set (without using pop())\n",
    "s = {1,2,3,4}\n",
    "s.remove(3)\n",
    "print(s)"
   ]
  },
  {
   "cell_type": "code",
   "execution_count": 14,
   "id": "bd3c7022-3644-41bc-9744-4b1a2f5f36d4",
   "metadata": {},
   "outputs": [
    {
     "name": "stdout",
     "output_type": "stream",
     "text": [
      "{1, 2, 3, 4, 5}\n"
     ]
    }
   ],
   "source": [
    " Convert a list into a set and check if duplicates are removed.\n",
    "\n",
    "lst = [1,2,2,3,4,4,5]\n",
    "s = set(lst)\n",
    "print(s)"
   ]
  },
  {
   "cell_type": "code",
   "execution_count": 15,
   "id": "9644c4dc-f21a-4728-9b4d-ccbc3f636137",
   "metadata": {},
   "outputs": [
    {
     "name": "stdout",
     "output_type": "stream",
     "text": [
      "True\n"
     ]
    }
   ],
   "source": [
    " Check if two sets are disjoint.\n",
    "a = {1,2,3}\n",
    "b = {4,5,6}\n",
    "print(a.isdisjoint(b))"
   ]
  },
  {
   "cell_type": "code",
   "execution_count": 16,
   "id": "7293903c-b696-4f03-93c6-33b4434f7876",
   "metadata": {},
   "outputs": [
    {
     "name": "stdout",
     "output_type": "stream",
     "text": [
      "10\n"
     ]
    }
   ],
   "source": [
    " Find the sum of all elements in a set.\n",
    "\n",
    "s = {1,2,3,4}\n",
    "total = 0\n",
    "for i in s:\n",
    "    total += i\n",
    "print(total)"
   ]
  },
  {
   "cell_type": "code",
   "execution_count": 17,
   "id": "bb4aef67-6667-40ad-943a-d69d23f66788",
   "metadata": {},
   "outputs": [
    {
     "name": "stdout",
     "output_type": "stream",
     "text": [
      "{'a': 1, 'b': 2, 'c': 3, 'd': 4}\n"
     ]
    }
   ],
   "source": [
    "Merge two dictionaries into one.\n",
    "d1 = {'a':1,'b':2}\n",
    "d2 = {'c':3,'d':4}\n",
    "d1.update(d2)\n",
    "print(d1)\n"
   ]
  },
  {
   "cell_type": "code",
   "execution_count": 18,
   "id": "2d77fc29-6ebd-4063-860e-9dd518c3c302",
   "metadata": {},
   "outputs": [
    {
     "name": "stdout",
     "output_type": "stream",
     "text": [
      "(4, 3, 2, 1)\n"
     ]
    }
   ],
   "source": [
    " Reverse a tuple without using [::-1].\n",
    "\n",
    "t = (1,2,3,4)\n",
    "rev = tuple(reversed(t))\n",
    "print(rev)\n"
   ]
  },
  {
   "cell_type": "code",
   "execution_count": 19,
   "id": "a5d1b841-c798-45c3-91e8-6810f2a082fe",
   "metadata": {},
   "outputs": [
    {
     "name": "stdout",
     "output_type": "stream",
     "text": [
      "(1, 2, 3, 4, 5)\n"
     ]
    }
   ],
   "source": [
    " Extract unique elements from a tuple and store them in a new list.\n",
    "\n",
    "t = (1,2,2,3,4,4,5)\n",
    "unique = []\n",
    "for i in t:\n",
    "    if i not in unique:\n",
    "        unique.append(i)\n",
    "print(tuple(unique))\n"
   ]
  },
  {
   "cell_type": "code",
   "execution_count": null,
   "id": "bea1b753-c5e9-4405-90d0-928bd62663f6",
   "metadata": {},
   "outputs": [],
   "source": []
  }
 ],
 "metadata": {
  "kernelspec": {
   "display_name": "Python 3 (ipykernel)",
   "language": "python",
   "name": "python3"
  },
  "language_info": {
   "codemirror_mode": {
    "name": "ipython",
    "version": 3
   },
   "file_extension": ".py",
   "mimetype": "text/x-python",
   "name": "python",
   "nbconvert_exporter": "python",
   "pygments_lexer": "ipython3",
   "version": "3.13.5"
  }
 },
 "nbformat": 4,
 "nbformat_minor": 5
}
